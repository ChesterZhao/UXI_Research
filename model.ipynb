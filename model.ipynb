{
 "cells": [
  {
   "cell_type": "code",
   "id": "initial_id",
   "metadata": {
    "collapsed": true,
    "ExecuteTime": {
     "end_time": "2024-06-18T02:02:47.213004Z",
     "start_time": "2024-06-18T02:02:47.195113Z"
    }
   },
   "source": [
    "import pandas as pd\n",
    "from sklearn.preprocessing import StandardScaler\n",
    "from snownlp import SnowNLP\n",
    "\n",
    "def analyze_sentiment(text):\n",
    "    analysis = SnowNLP(text)\n",
    "    return analysis.sentiments * 20 - 10\n",
    "\n",
    "# 读取数据\n",
    "data = pd.read_csv('data.csv')\n",
    "\n",
    "# 进行情感分析\n",
    "data['sentiment'] = data['comments'].apply(analyze_sentiment)\n",
    "\n",
    "# 标准化回复数、点赞数、收藏数、发帖者数\n",
    "scaler = StandardScaler()\n",
    "data[['replies', 'likes', 'saves', 'followers']] = scaler.fit_transform(data[['replies', 'likes', 'saves', 'followers']])\n",
    "\n",
    "# 标准化情感评分\n",
    "data['sentiment'] = (data['sentiment'] + 10) / 20\n",
    "\n",
    "# 权重\n",
    "weights = {'replies': 0.3, 'likes': 0.2, 'saves': 0.2, 'followers': 0.1, 'sentiment': 0.2}\n",
    "\n",
    "# 计算UXI\n",
    "data['UXI'] = (data[['replies', 'likes', 'saves', 'followers', 'sentiment']] * pd.Series(weights)).sum(axis=1)\n",
    "\n",
    "# 输出UXI\n",
    "print(data[['replies', 'likes', 'saves', 'followers', 'sentiment', 'UXI']])"
   ],
   "outputs": [
    {
     "name": "stdout",
     "output_type": "stream",
     "text": [
      "    replies     likes     saves  followers  sentiment       UXI\n",
      "0 -1.224745 -1.224745 -1.224745  -1.224745   0.038805 -0.972035\n",
      "1  0.000000  0.000000  0.000000   0.000000   0.175801  0.035160\n",
      "2  1.224745  1.224745  1.224745   1.224745   0.189530  1.017702\n"
     ]
    }
   ],
   "execution_count": 6
  }
 ],
 "metadata": {
  "kernelspec": {
   "display_name": "Python 3",
   "language": "python",
   "name": "python3"
  },
  "language_info": {
   "codemirror_mode": {
    "name": "ipython",
    "version": 2
   },
   "file_extension": ".py",
   "mimetype": "text/x-python",
   "name": "python",
   "nbconvert_exporter": "python",
   "pygments_lexer": "ipython2",
   "version": "2.7.6"
  }
 },
 "nbformat": 4,
 "nbformat_minor": 5
}
